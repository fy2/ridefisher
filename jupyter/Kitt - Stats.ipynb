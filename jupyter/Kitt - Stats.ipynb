{
 "cells": [
  {
   "cell_type": "raw",
   "metadata": {
    "scrolled": true
   },
   "source": [
    "%matplotlib inline\n",
    "\n",
    "import matplotlib.pyplot as plt\n",
    "plt.plot([1,2,3,4])\n",
    "plt.ylabel('some numbers')\n",
    "plt.show()"
   ]
  },
  {
   "cell_type": "raw",
   "metadata": {},
   "source": [
    "%matplotlib inline\n",
    "\n",
    "import sqlite3\n",
    "import matplotlib.pyplot as plt\n",
    "\n",
    "c = sqlite3.connect('/home/feyruz/sandbox/RideAway-AutoResponder/rideaway.db')\n",
    "cur = c.cursor()\n",
    "cur.execute('SELECT price from ride r join status s on r.status_id = s.id where r.status_id = 3')\n",
    "my_rides = cur.fetchall()\n",
    "\n",
    "# We can also close the connection if we are done with it.\n",
    "# Just be sure any changes have been committed or they will be lost.\n",
    "c.close()\n",
    "\n",
    "plt.plot(my_rides)\n",
    "plt.xlabel('My Locked Rides')\n",
    "plt.ylabel('Price')\n",
    "plt.show()"
   ]
  },
  {
   "cell_type": "raw",
   "metadata": {},
   "source": [
    "#%matplotlib inline\n",
    "%pylab inline\n",
    "pylab.rcParams['figure.figsize'] = (20, 10)\n",
    "\n",
    "import sqlite3\n",
    "import matplotlib.pyplot as plt\n",
    "\n",
    "c = sqlite3.connect('/home/feyruz/sandbox/RideAway-AutoResponder/rideaway.db')\n",
    "cur = c.cursor()\n",
    "prices = []\n",
    "for i in cur.execute('SELECT price from ride r join status s on r.status_id = s.id where r.status_id = 3 order by created_dt'):\n",
    "    prices.append(i[0])\n",
    "dates = []\n",
    "for i in cur.execute('SELECT created_dt from ride r join status s on r.status_id = s.id where r.status_id = 3 order by '):\n",
    "    dates.append(i[0])\n",
    "\n",
    "c.close()\n",
    "\n",
    "N = len(prices)\n",
    "\n",
    "width = 1/1.5\n",
    "plt.bar(dates, prices, width, color=\"blue\")\n",
    "plt.xticks(dates, dates, rotation='vertical')\n",
    "\n",
    "plt.show()"
   ]
  },
  {
   "cell_type": "code",
   "execution_count": null,
   "metadata": {},
   "outputs": [],
   "source": [
    "#%matplotlib inline\n",
    "%pylab inline\n",
    "pylab.rcParams['figure.figsize'] = (20, 10)\n",
    "\n",
    "import sqlite3\n",
    "import matplotlib.pyplot as plt\n",
    "\n",
    "c = sqlite3.connect('/home/feyruz/sandbox/RideAway-AutoResponder/rideaway.db')\n",
    "cur = c.cursor()\n",
    "prices = []\n",
    "dates = []\n",
    "for i in cur.execute('SELECT price, created_dt from ride r join status s on r.status_id = s.id where r.status_id = 3 order by created_dt'):\n",
    "    prices.append(i[0])\n",
    "    dates.append(i[1])\n",
    "\n",
    "\n",
    "# We can also close the connection if we are done with it.\n",
    "# Just be sure any changes have been committed or they will be lost.\n",
    "c.close()\n",
    "# width = 1/1.5\n",
    "\n",
    "# plt.bar(rides, color=\"blue\")\n",
    "fig = plt.figure()\n",
    "fig.suptitle('Rides Locked For me', fontsize=14, fontweight='bold')\n",
    "ax = fig.add_subplot(111)\n",
    "fig.subplots_adjust(top=0.85)\n",
    "ax.set_xlabel('Datum')\n",
    "ax.set_ylabel('Price (euros)')\n",
    "N = len(prices)\n",
    "\n",
    "width = 1/1.5\n",
    "plt.plot(dates, prices, \"ro\")\n",
    "plt.xticks(dates, dates, rotation='vertical')\n",
    "\n",
    "plt.show()"
   ]
  },
  {
   "cell_type": "code",
   "execution_count": null,
   "metadata": {},
   "outputs": [],
   "source": [
    "import pprint\n",
    "from collections import Counter\n",
    "import collections\n",
    "c = sqlite3.connect('/home/feyruz/sandbox/RideAway-AutoResponder/rideaway.db')\n",
    "cur = c.cursor()\n",
    "broadcast =[]\n",
    "for i in cur.execute('SELECT price, created_dt from ride r join status s on r.status_id = s.id where r.status_id in (3,4) order by created_dt'):\n",
    "    broadcast.append(i[1][11:13])\n",
    "    \n",
    "freq = Counter(broadcast)\n",
    "pp = pprint.PrettyPrinter(indent=4)\n",
    "#pp.pprint(freq)\n",
    "\n",
    "fig = plt.figure()\n",
    "fig.suptitle('Wanneer Ritten Binnenkomen', fontsize=14, fontweight='bold')\n",
    "ax = fig.add_subplot(111)\n",
    "fig.subplots_adjust(top=0.99)\n",
    "ax.set_xlabel('Uur van de Dag')\n",
    "ax.set_ylabel('Aantal emails van t2a')\n",
    "\n",
    "sfreq = collections.OrderedDict(sorted(freq.items()))\n",
    "plt.bar(range(len(sfreq)), list(sfreq.values()), align='center')\n",
    "plt.xticks(range(len(sfreq)), list(sfreq.keys()))\n",
    "\n",
    "c.close()"
   ]
  },
  {
   "cell_type": "code",
   "execution_count": null,
   "metadata": {},
   "outputs": [],
   "source": []
  }
 ],
 "metadata": {
  "kernelspec": {
   "display_name": "Python 3",
   "language": "python",
   "name": "python3"
  },
  "language_info": {
   "codemirror_mode": {
    "name": "ipython",
    "version": 3
   },
   "file_extension": ".py",
   "mimetype": "text/x-python",
   "name": "python",
   "nbconvert_exporter": "python",
   "pygments_lexer": "ipython3",
   "version": "3.5.2"
  }
 },
 "nbformat": 4,
 "nbformat_minor": 2
}
